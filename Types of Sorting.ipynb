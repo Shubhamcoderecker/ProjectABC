{
 "cells": [
  {
   "cell_type": "markdown",
   "id": "d22d5bb8",
   "metadata": {},
   "source": [
    "1. Selection Sort"
   ]
  },
  {
   "cell_type": "code",
   "execution_count": 31,
   "id": "8b795e6e",
   "metadata": {},
   "outputs": [
    {
     "name": "stdout",
     "output_type": "stream",
     "text": [
      "List after iteration no.1 is :  [1, 7, 3, 10, 8, 4, 9]\n",
      "List after iteration no.1 is :  [1, 3, 7, 10, 8, 4, 9]\n",
      "List after iteration no.1 is :  [1, 3, 4, 10, 8, 7, 9]\n",
      "List after iteration no.1 is :  [1, 3, 4, 7, 8, 10, 9]\n",
      "List after iteration no.1 is :  [1, 3, 4, 7, 8, 10, 9]\n",
      "List after iteration no.1 is :  [1, 3, 4, 7, 8, 9, 10]\n",
      "List after iteration no.1 is :  [1, 3, 4, 7, 8, 9, 10]\n",
      "\n",
      "Sorted List is:  [1, 3, 4, 7, 8, 9, 10]\n"
     ]
    }
   ],
   "source": [
    "l = [10,7,3,1,8,4,9]\n",
    "for i in range(len(l)):# 0,1,2,3,4,5,6 # l[i]\n",
    "    min_index = i          # min_index = 0\n",
    "    for j in range(i+1, len(l)):# 1,2,3,4,5,6\n",
    "        if l[min_index]>l[j]:# 10>7, 7>3, 3>1, 1>8, 1>4, 1>9\n",
    "            min_index = j # min_index = 1 ,2, 3..... min_index = 3..... l[min_index]=1, l[i]=10\n",
    "    l[i],l[min_index] = l[min_index],l[i] # \n",
    "    print('List after iteration no.1 is : ',l)\n",
    "print('\\nSorted List is: ', l)"
   ]
  },
  {
   "cell_type": "code",
   "execution_count": 32,
   "id": "69d80216",
   "metadata": {},
   "outputs": [
    {
     "name": "stdout",
     "output_type": "stream",
     "text": [
      "The Sorted List is:  [1, 3, 4, 7, 8, 9, 10]\n"
     ]
    }
   ],
   "source": [
    "l = [10,7,3,1,8,4,9]\n",
    "for i in range(0,len(l)):\n",
    "    min_i=i\n",
    "    for j in range(i+1,len(l)):\n",
    "        if l[min_i]>l[j]:\n",
    "            min_i=j\n",
    "    l[i],l[min_i]=l[min_i],l[i]\n",
    "print(\"The Sorted List is: \",l)"
   ]
  },
  {
   "cell_type": "markdown",
   "id": "6c7c6acf",
   "metadata": {},
   "source": [
    "2. Insertion Sort"
   ]
  },
  {
   "cell_type": "code",
   "execution_count": 5,
   "id": "8870d0db",
   "metadata": {},
   "outputs": [
    {
     "name": "stdout",
     "output_type": "stream",
     "text": [
      "Sorted list is:  [10, 7, 3, 1, 8, 4, 9]\n",
      "Sorted list is:  [7, 10, 3, 1, 8, 4, 9]\n",
      "Sorted list is:  [3, 7, 10, 1, 8, 4, 9]\n",
      "Sorted list is:  [1, 3, 7, 10, 8, 4, 9]\n",
      "Sorted list is:  [10, 1, 3, 7, 8, 4, 9]\n",
      "Sorted list is:  [4, 10, 1, 3, 7, 8, 9]\n",
      "Sorted list is:  [10, 4, 9, 1, 3, 7, 8]\n"
     ]
    }
   ],
   "source": [
    "l = [10,7,3,1,8,4,9]\n",
    "for i in range(len(l)):\n",
    "    for j in range(i+1):\n",
    "        if l[i]>l[j]:\n",
    "            i=j\n",
    "        l[i],l[j]=l[j],l[i]\n",
    "    print('Sorted list is: ',l)"
   ]
  },
  {
   "cell_type": "code",
   "execution_count": 27,
   "id": "25b4899e",
   "metadata": {},
   "outputs": [
    {
     "name": "stdout",
     "output_type": "stream",
     "text": [
      "List after iteration no.1 is :  [1, 7, 3, 10, 8, 4, 9]\n",
      "List after iteration no.1 is :  [1, 3, 7, 10, 8, 4, 9]\n",
      "List after iteration no.1 is :  [1, 3, 4, 10, 8, 7, 9]\n",
      "List after iteration no.1 is :  [1, 3, 4, 7, 8, 10, 9]\n",
      "List after iteration no.1 is :  [1, 3, 4, 7, 8, 10, 9]\n",
      "List after iteration no.1 is :  [1, 3, 4, 7, 8, 9, 10]\n",
      "List after iteration no.1 is :  [1, 3, 4, 7, 8, 9, 10]\n",
      "\n",
      "Sorted List is:  [1, 3, 4, 7, 8, 9, 10]\n"
     ]
    }
   ],
   "source": []
  },
  {
   "cell_type": "markdown",
   "id": "4eb5ac9b",
   "metadata": {},
   "source": [
    "3. Bubble Sort"
   ]
  },
  {
   "cell_type": "code",
   "execution_count": 54,
   "id": "89b44bdb",
   "metadata": {},
   "outputs": [
    {
     "name": "stdout",
     "output_type": "stream",
     "text": [
      "Sorted list is:  [1, 3, 4, 5, 7, 8, 9, 10, 12, 23, 36, 45]\n"
     ]
    }
   ],
   "source": [
    "l = [10,7,3,1,8,4,9,12,5,45,23,36]\n",
    "for i in range(len(l)):\n",
    "    for j in range(0,len(l)-1):\n",
    "        if l[j]>l[j+1]:\n",
    "            l[j],l[j+1]=l[j+1],l[j]\n",
    "print('Sorted list is: ',l) "
   ]
  },
  {
   "cell_type": "code",
   "execution_count": null,
   "id": "8067ea86",
   "metadata": {},
   "outputs": [],
   "source": []
  },
  {
   "cell_type": "code",
   "execution_count": null,
   "id": "388ee661",
   "metadata": {},
   "outputs": [],
   "source": []
  },
  {
   "cell_type": "code",
   "execution_count": 6,
   "id": "5ce8eda1",
   "metadata": {},
   "outputs": [
    {
     "name": "stdout",
     "output_type": "stream",
     "text": [
      "{'Ayesha': 95, 'Akash': 95, 'Ayub': 95, 'Abhijit': 95}\n"
     ]
    }
   ],
   "source": [
    "name = ['Ayesha', 'Akash','Ayub','Abhijit']\n",
    "dict4 = {}\n",
    "n=95\n",
    "for i in name:\n",
    "    dict4.update({i:n})\n",
    "print(dict4)"
   ]
  },
  {
   "cell_type": "code",
   "execution_count": 13,
   "id": "7a3e2499",
   "metadata": {},
   "outputs": [
    {
     "name": "stdout",
     "output_type": "stream",
     "text": [
      "{'A': 65, 'B': 66, 'C': 67, 'D': 68, 'E': 69, 'F': 70, 'G': 71, 'H': 72, 'I': 73, 'J': 74, 'K': 75, 'L': 76, 'M': 77, 'N': 78, 'O': 79, 'P': 80, 'Q': 81, 'R': 82, 'S': 83, 'T': 84, 'U': 85, 'V': 86, 'W': 87, 'X': 88, 'Y': 89, 'Z': 90}\n"
     ]
    }
   ],
   "source": [
    "dict1={}\n",
    "for i in range(65,91):\n",
    "    a=chr(i)\n",
    "    dict1.update({a:i})\n",
    "print(dict1)"
   ]
  },
  {
   "cell_type": "code",
   "execution_count": 18,
   "id": "77828cdb",
   "metadata": {},
   "outputs": [
    {
     "name": "stdout",
     "output_type": "stream",
     "text": [
      "Enter the range of numbers10\n",
      "{1: 1, 2: 8, 3: 27, 4: 64, 5: 125, 6: 216, 7: 343, 8: 512, 9: 729, 10: 1000}\n"
     ]
    }
   ],
   "source": [
    "dict1={}\n",
    "n=int(input(\"Enter the range of numbers\"))\n",
    "for i in range(1,n+1):\n",
    "    dict1.update({i:i**3})\n",
    "print(dict1)"
   ]
  },
  {
   "cell_type": "code",
   "execution_count": 19,
   "id": "e0cee40b",
   "metadata": {},
   "outputs": [
    {
     "name": "stdout",
     "output_type": "stream",
     "text": [
      "Enter the range of numbers10\n",
      "{1: 1, 2: 4, 3: 9, 4: 16, 5: 25, 6: 36, 7: 49, 8: 64, 9: 81, 10: 100}\n"
     ]
    }
   ],
   "source": [
    "dict1={}\n",
    "n=int(input(\"Enter the range of numbers\"))\n",
    "for i in range(1,n+1):\n",
    "    dict1.update({i:i**2})\n",
    "print(dict1)"
   ]
  },
  {
   "cell_type": "code",
   "execution_count": null,
   "id": "6df36cfd",
   "metadata": {},
   "outputs": [],
   "source": []
  }
 ],
 "metadata": {
  "kernelspec": {
   "display_name": "Python 3 (ipykernel)",
   "language": "python",
   "name": "python3"
  },
  "language_info": {
   "codemirror_mode": {
    "name": "ipython",
    "version": 3
   },
   "file_extension": ".py",
   "mimetype": "text/x-python",
   "name": "python",
   "nbconvert_exporter": "python",
   "pygments_lexer": "ipython3",
   "version": "3.9.12"
  }
 },
 "nbformat": 4,
 "nbformat_minor": 5
}
